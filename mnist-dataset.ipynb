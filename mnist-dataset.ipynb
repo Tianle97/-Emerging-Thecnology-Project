{
 "cells": [
  {
   "cell_type": "markdown",
   "metadata": {},
   "source": [
    "\n",
    "# MNIST Dataset\n",
    "\n",
    "![mnist_dataset](https://cdn-images-1.medium.com/max/1200/1*9Mjoc_J0JR294YwHGXwCeg.jpeg)\n",
    "\n",
    "#### What is MNIST?\n",
    "MNIST($M$odified $N$ational $I$nstitute of $S$tandards and $T$echnology) is a sub data set of NIST($N$ational $I$nstitute of $S$tandards and $T$echnology), a large database of handwritten digits. MNIST is used to train image processing systems and is basically the \"hello world\" of machine learning and computer vision.\n",
    "\n",
    "MNIST（修改后的国家标准与技术研究所）是NIST（国家标准与技术研究所）的子数据集，是一个大型的手写数字数据库。 MNIST用于训练图像处理系统，基本上是机器学习和计算机视觉的“hello world”。\n",
    "\n",
    "MNIST contains 60,000 training images and 10,000 testing images. Training images are used to train a system, and testing images are used to test the trained system.The images are grayscale, 28x28 pixels, and centered to reduce preprocessing and get started quicker. \n",
    "\n",
    "#### Where does the MNIST dataset come from?\n",
    "The set of images in the MNIST database is a combination of two of NIST's databases: Special Database 1 and Special Database 3. Special Database 1 and Special Database 3 consist of digits written by high school students and employees of the United States Census Bureau, respectively.\n",
    "\n",
    "#### What is Tensorflow and Keras?\n",
    "Tensorflow is a popular software library for dataflow programming across a range of tasks. Tensorflow is open-source and is developed by the Google Brain Team. Tensorflow is a symbolic math library and is also used for machine learning applications such as neaural networks. I will be using Tensorflow's Python API but it is available for a range of languages.\n",
    "\n",
    "Tensorflow是一个流行的软件库，用于跨一系列任务进行数据流编程。 Tensorflow是开源的，由Google Brain Team开发。 Tensorflow是一个符号数学库，也用于机器学习应用程序，如neaural网络。我将使用Tensorflow的Python API，但它可用于多种语言。 \n",
    "\n",
    "Keras is an open source neural network library written in Python developed by a Google engineer: Francois Chollet. Keras acts like a \"library on top of a library\" as it is capable of running on top of MXNet, Deeplearning4j, Tensorflow, CNTK or Theano. Keras takes the functionality in core Tensorflow and adds a higher-level of abstraction to it, making it easier to experiment with deep neural networks.\n",
    "\n",
    "Keras是一个用Python编写的开源神经网络库，由Google工程师Francois Chollet开发。 Keras就像一个“库顶部的库”，因为它能够在MXNet，Deeplearning4j，Tensorflow，CNTK或Theano之上运行。 Keras采用核心Tensorflow中的功能，并为其添加了更高级别的抽象，使得更容易实验深度神经网络。"
   ]
  },
  {
   "cell_type": "markdown",
   "metadata": {},
   "source": [
    "***\n",
    "## Now import the package for prepare the datasets"
   ]
  },
  {
   "cell_type": "code",
   "execution_count": 6,
   "metadata": {},
   "outputs": [],
   "source": [
    "# import tensorflow\n",
    "import tensorflow as tf\n",
    "# import mnist data from tensorflow\n",
    "from tensorflow.examples.tutorials.mnist import input_data"
   ]
  },
  {
   "cell_type": "markdown",
   "metadata": {},
   "source": [
    "The gzip module provides the GzipFile class, as well as the open(), compress() and decompress() convenience functions. The GzipFile class reads and writes gzip-format files, automatically compressing or decompressing the data so that it looks like an ordinary file object.  \n",
    "\n",
    "gzip.open($filename$, $mode$='rb', $compresslevel$=9, $encoding$=None, $errors$=None, $newline$=None)  \n",
    "Open a gzip-compressed file in binary or text mode, returning a file object.\n",
    "\n",
    "Download the MNIST Dataset File:  \n",
    "http://yann.lecun.com/exdb/mnist/\n",
    "\n",
    "![mnist](https://pic4.zhimg.com/80/v2-9c631455b6c2461b76e6abdf69befe33_hd.jpg)\n",
    "\n",
    "The filename argument can be an actual filename (a str or bytes object), or an existing file object to read from or write to.\n",
    "\n",
    "The mode argument can be any of 'r', 'rb', 'a', 'ab', 'w', 'wb', 'x' or 'xb' for binary mode, or 'rt', 'at', 'wt', or 'xt' for text mode. The default is 'rb'."
   ]
  },
  {
   "cell_type": "code",
   "execution_count": 17,
   "metadata": {},
   "outputs": [
    {
     "name": "stdout",
     "output_type": "stream",
     "text": [
      "Extracting data\\train-images-idx3-ubyte.gz\n",
      "Extracting data\\train-labels-idx1-ubyte.gz\n",
      "Extracting data\\t10k-images-idx3-ubyte.gz\n",
      "Extracting data\\t10k-labels-idx1-ubyte.gz\n"
     ]
    }
   ],
   "source": [
    "import gzip\n",
    "\n",
    "# Download MNIST Data \n",
    "from tensorflow.examples.tutorials.mnist import input_data\n",
    "\n",
    "# y labels are oh-encoded\n",
    "mnist = input_data.read_data_sets(\"data\", one_hot=True) \n",
    "\n",
    "# Visualise data\n",
    "import matplotlib.pyplot as plt\n",
    "%matplotlib inline"
   ]
  },
  {
   "cell_type": "code",
   "execution_count": 18,
   "metadata": {},
   "outputs": [
    {
     "data": {
      "text/plain": [
       "bytes"
      ]
     },
     "execution_count": 18,
     "metadata": {},
     "output_type": "execute_result"
    }
   ],
   "source": [
    "with gzip.open('data/t10k-images-idx3-ubyte.gz', 'rb') as test_img:\n",
    "    test_images = test_img.read()\n",
    "type(test_images)\n",
    "\n",
    "with gzip.open('data/t10k-labels-idx1-ubyte.gz', 'rb') as test_lab:\n",
    "    test_labels = test_lab.read()\n",
    "type(test_labels)"
   ]
  },
  {
   "cell_type": "code",
   "execution_count": 19,
   "metadata": {},
   "outputs": [
    {
     "data": {
      "text/plain": [
       "b'\\x00\\x00\\x08\\x03'"
      ]
     },
     "execution_count": 19,
     "metadata": {},
     "output_type": "execute_result"
    }
   ],
   "source": [
    "# Get the first 4 bytes\n",
    "test_images[0:4]"
   ]
  },
  {
   "cell_type": "code",
   "execution_count": null,
   "metadata": {},
   "outputs": [],
   "source": []
  }
 ],
 "metadata": {
  "kernelspec": {
   "display_name": "Python 3",
   "language": "python",
   "name": "python3"
  },
  "language_info": {
   "codemirror_mode": {
    "name": "ipython",
    "version": 3
   },
   "file_extension": ".py",
   "mimetype": "text/x-python",
   "name": "python",
   "nbconvert_exporter": "python",
   "pygments_lexer": "ipython3",
   "version": "3.6.5"
  }
 },
 "nbformat": 4,
 "nbformat_minor": 2
}
