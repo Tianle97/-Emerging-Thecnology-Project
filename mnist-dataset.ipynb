{
 "cells": [
  {
   "cell_type": "markdown",
   "metadata": {},
   "source": [
    "\n",
    "# MNIST Dataset\n",
    "\n",
    "![mnist_dataset](https://cdn-images-1.medium.com/max/1200/1*9Mjoc_J0JR294YwHGXwCeg.jpeg)\n",
    "\n",
    "#### What is MNIST?\n",
    "MNIST($M$odified $N$ational $I$nstitute of $S$tandards and $T$echnology) is a sub data set of NIST($N$ational $I$nstitute of $S$tandards and $T$echnology), a large database of handwritten digits. MNIST is used to train image processing systems and is basically the \"hello world\" of machine learning and computer vision.\n",
    "\n",
    "MNIST（修改后的国家标准与技术研究所）是NIST（国家标准与技术研究所）的子数据集，是一个大型的手写数字数据库。 MNIST用于训练图像处理系统，基本上是机器学习和计算机视觉的“hello world”。\n",
    "\n",
    "MNIST contains 60,000 training images and 10,000 testing images. Training images are used to train a system, and testing images are used to test the trained system.The images are grayscale, 28x28 pixels, and centered to reduce preprocessing and get started quicker. \n",
    "\n",
    "#### Where does the MNIST dataset come from?\n",
    "The set of images in the MNIST database is a combination of two of NIST's databases: Special Database 1 and Special Database 3. Special Database 1 and Special Database 3 consist of digits written by high school students and employees of the United States Census Bureau, respectively.\n",
    "\n",
    "#### What is Tensorflow and Keras?\n",
    "Tensorflow is a popular software library for dataflow programming across a range of tasks. Tensorflow is open-source and is developed by the Google Brain Team. Tensorflow is a symbolic math library and is also used for machine learning applications such as neaural networks. I will be using Tensorflow's Python API but it is available for a range of languages.\n",
    "\n",
    "Tensorflow是一个流行的软件库，用于跨一系列任务进行数据流编程。 Tensorflow是开源的，由Google Brain Team开发。 Tensorflow是一个符号数学库，也用于机器学习应用程序，如neaural网络。我将使用Tensorflow的Python API，但它可用于多种语言。 \n",
    "\n",
    "Keras is an open source neural network library written in Python developed by a Google engineer: Francois Chollet. Keras acts like a \"library on top of a library\" as it is capable of running on top of MXNet, Deeplearning4j, Tensorflow, CNTK or Theano. Keras takes the functionality in core Tensorflow and adds a higher-level of abstraction to it, making it easier to experiment with deep neural networks.\n",
    "\n",
    "Keras是一个用Python编写的开源神经网络库，由Google工程师Francois Chollet开发。 Keras就像一个“库顶部的库”，因为它能够在MXNet，Deeplearning4j，Tensorflow，CNTK或Theano之上运行。 Keras采用核心Tensorflow中的功能，并为其添加了更高级别的抽象，使得更容易实验深度神经网络。"
   ]
  },
  {
   "cell_type": "markdown",
   "metadata": {},
   "source": [
    "***\n",
    "## Now import the package for prepare the datasets"
   ]
  },
  {
   "cell_type": "markdown",
   "metadata": {},
   "source": [
    "The gzip module provides the GzipFile class, as well as the open(), compress() and decompress() convenience functions. The GzipFile class reads and writes gzip-format files, automatically compressing or decompressing the data so that it looks like an ordinary file object.  \n",
    "\n",
    "gzip.open($filename$, $mode$='rb', $compresslevel$=9, $encoding$=None, $errors$=None, $newline$=None)  \n",
    "Open a gzip-compressed file in binary or text mode, returning a file object.\n",
    "\n",
    "Download the MNIST Dataset File:  \n",
    "http://yann.lecun.com/exdb/mnist/\n",
    "\n",
    "![mnist](https://pic4.zhimg.com/80/v2-9c631455b6c2461b76e6abdf69befe33_hd.jpg)\n",
    "\n",
    "The filename argument can be an actual filename (a str or bytes object), or an existing file object to read from or write to.\n",
    "\n",
    "The mode argument can be any of 'r', 'rb', 'a', 'ab', 'w', 'wb', 'x' or 'xb' for binary mode, or 'rt', 'at', 'wt', or 'xt' for text mode. The default is 'rb'."
   ]
  },
  {
   "cell_type": "code",
   "execution_count": 4,
   "metadata": {},
   "outputs": [
    {
     "name": "stdout",
     "output_type": "stream",
     "text": [
      "Extracting data\\train-images-idx3-ubyte.gz\n",
      "Extracting data\\train-labels-idx1-ubyte.gz\n",
      "Extracting data\\t10k-images-idx3-ubyte.gz\n",
      "Extracting data\\t10k-labels-idx1-ubyte.gz\n"
     ]
    }
   ],
   "source": [
    "import gzip\n",
    "\n",
    "# import tensorflow\n",
    "import tensorflow as tf\n",
    "\n",
    "import numpy as np\n",
    "from keras.datasets import mnist\n",
    "\n",
    "# Download MNIST Data \n",
    "from tensorflow.examples.tutorials.mnist import input_data\n",
    "\n",
    "# y labels are oh-encoded\n",
    "mnist = input_data.read_data_sets(\"data\", one_hot=True) \n",
    "\n",
    "# Visualise data\n",
    "import matplotlib.pyplot as plt\n",
    "%matplotlib inline"
   ]
  },
  {
   "cell_type": "markdown",
   "metadata": {},
   "source": [
    "***\n",
    "## Now begin to read the MNIST dataset"
   ]
  },
  {
   "cell_type": "code",
   "execution_count": 5,
   "metadata": {},
   "outputs": [
    {
     "data": {
      "text/plain": [
       "bytes"
      ]
     },
     "execution_count": 5,
     "metadata": {},
     "output_type": "execute_result"
    }
   ],
   "source": [
    "with gzip.open('data/t10k-images-idx3-ubyte.gz', 'rb') as test_img:\n",
    "    test_images = test_img.read()\n",
    "type(test_images)\n",
    "\n",
    "with gzip.open('data/t10k-labels-idx1-ubyte.gz', 'rb') as test_lab:\n",
    "    test_labels = test_lab.read()\n",
    "type(test_labels)"
   ]
  },
  {
   "cell_type": "code",
   "execution_count": 6,
   "metadata": {},
   "outputs": [
    {
     "data": {
      "text/plain": [
       "b'\\x00\\x00\\x08\\x03'"
      ]
     },
     "execution_count": 6,
     "metadata": {},
     "output_type": "execute_result"
    }
   ],
   "source": [
    "# Get the first 4 bytes\n",
    "test_images[0:4]"
   ]
  },
  {
   "cell_type": "code",
   "execution_count": 7,
   "metadata": {},
   "outputs": [
    {
     "name": "stdout",
     "output_type": "stream",
     "text": [
      "The number of the datasets: \n",
      " >>>train_nums = 55000 \n",
      " >>>validation_nums = 5000 \n",
      " >>>test_nums = 10000 \n",
      "\n"
     ]
    }
   ],
   "source": [
    "# 获得数据集的个数\n",
    "# Get the number of the dataset\n",
    "train_nums = mnist.train.num_examples\n",
    "validation_nums = mnist.validation.num_examples\n",
    "test_nums = mnist.test.num_examples\n",
    "print('The number of the datasets: ')\n",
    "print(' >>>train_nums = %d' % train_nums,'\\n',\n",
    "      '>>>validation_nums = %d'% validation_nums,'\\n',\n",
    "      '>>>test_nums = %d' % test_nums,'\\n')"
   ]
  },
  {
   "cell_type": "code",
   "execution_count": 8,
   "metadata": {},
   "outputs": [
    {
     "name": "stdout",
     "output_type": "stream",
     "text": [
      " >>>The size of train_data： (55000, 784) \n",
      " >>>The size of one picture of train_data： (784,)\n"
     ]
    }
   ],
   "source": [
    "# Get data value\n",
    "# 所有训练数据\n",
    "# all of the train data\n",
    "train_data = mnist.train.images   \n",
    "val_data = mnist.validation.images  #(5000,784)\n",
    "test_data = mnist.test.images       #(10000,784)\n",
    "print(' >>>The size of train_data：',train_data.shape,'\\n',\n",
    "      '>>>The size of one picture of train_data：',train_data[0].shape)"
   ]
  },
  {
   "cell_type": "code",
   "execution_count": 9,
   "metadata": {},
   "outputs": [
    {
     "name": "stdout",
     "output_type": "stream",
     "text": [
      " >>>Training set labels array size： (55000, 10) \n",
      " >>>Label size of an image： (10,) \n",
      " >>>Label value of an image：： [0. 0. 0. 0. 0. 0. 0. 1. 0. 0.]\n"
     ]
    }
   ],
   "source": [
    "# Get label value.and one 1*10 is a vector \n",
    "# 获取标签值label=[0,0,...,0,1],是一个1*10的向量'''\n",
    "# 所有训练数据\n",
    "# All of the train labels\n",
    "train_labels = mnist.train.labels     #(55000,10)\n",
    "val_labels = mnist.validation.labels  #(5000,10)\n",
    "test_labels = mnist.test.labels       #(10000,10)\n",
    "\n",
    "# 输出训练集标签数组的大小，一幅图像的标签大小，一副图像的标签值\n",
    "print(' >>>Training set labels array size：',train_labels.shape,'\\n',\n",
    "      '>>>Label size of an image：',train_labels[1].shape,'\\n',\n",
    "      '>>>Label value of an image：：',train_labels[0])"
   ]
  },
  {
   "cell_type": "code",
   "execution_count": 10,
   "metadata": {},
   "outputs": [
    {
     "name": "stdout",
     "output_type": "stream",
     "text": [
      " >>>Training 100 images in each batches: The data size = (100, 784) \n",
      " >>>Training 100 images in each batches: The label size= (100, 10)\n"
     ]
    }
   ],
   "source": [
    "# 批量获取数据和标签【使用next_batch(batch_size)】\n",
    "#每次批量训练100幅图像\n",
    "# Training 100 images in each batches\n",
    "batch_size = 100    \n",
    "# Use the mnist.train.next_batch(batch_size) for batch reading sample\n",
    "# 使用mnist.train.next_batch(batch_size)批量读取样本\n",
    "batch_xs,batch_ys = mnist.train.next_batch(batch_size)\n",
    "print(' >>>Training 100 images in each batches: The data size =',batch_xs.shape,'\\n',\n",
    "      '>>>Training 100 images in each batches: The label size=',batch_ys.shape)\n",
    "#xs是图像数据(100,784);ys是标签(100,10)\n"
   ]
  },
  {
   "cell_type": "code",
   "execution_count": 11,
   "metadata": {},
   "outputs": [
    {
     "data": {
      "image/png": "[encoded data removed]",
      "text/plain": [
       "<Figure size 432x288 with 1 Axes>"
      ]
     },
     "metadata": {},
     "output_type": "display_data"
    },
    {
     "data": {
      "image/png": "[encoded data removed]",
      "text/plain": [
       "<Figure size 432x288 with 1 Axes>"
      ]
     },
     "metadata": {},
     "output_type": "display_data"
    },
    {
     "data": {
      "image/png": "[encoded data removed]",
      "text/plain": [
       "<Figure size 432x288 with 1 Axes>"
      ]
     },
     "metadata": {},
     "output_type": "display_data"
    },
    {
     "data": {
      "image/png": "[encoded data removed]",
      "text/plain": [
       "<Figure size 432x288 with 1 Axes>"
      ]
     },
     "metadata": {},
     "output_type": "display_data"
    },
    {
     "data": {
      "image/png": "[encoded data removed]",
      "text/plain": [
       "<Figure size 432x288 with 1 Axes>"
      ]
     },
     "metadata": {},
     "output_type": "display_data"
    }
   ],
   "source": [
    "# 显示图像\n",
    "# Display the images\n",
    "plt.figure()\n",
    "# Display the 5 images\n",
    "for i in range(5):\n",
    "    \n",
    "    im = train_data[i].reshape(28,28)\n",
    "    im = batch_xs[i].reshape(28,28)\n",
    "    \n",
    "    plt.imshow(im,'gray')\n",
    "    # Pause for interval seconds.\n",
    "    #If there is an active figure, \n",
    "    #it will be updated and displayed before the pause, \n",
    "    #and the GUI event loop (if any) will run during the pause.\n",
    "    plt.pause(0.0000001)\n",
    "plt.show()\n"
   ]
  },
  {
   "cell_type": "code",
   "execution_count": 12,
   "metadata": {},
   "outputs": [
    {
     "data": {
      "text/plain": [
       "<matplotlib.image.AxesImage at 0x25302ccd080>"
      ]
     },
     "execution_count": 12,
     "metadata": {},
     "output_type": "execute_result"
    },
    {
     "data": {
      "image/png": "[encoded data removed]",
      "text/plain": [
       "<Figure size 432x288 with 9 Axes>"
      ]
     },
     "metadata": {},
     "output_type": "display_data"
    }
   ],
   "source": [
    "# Another way to display the images\n",
    "from keras.datasets import mnist\n",
    "# There are 2 tuples. The first tuple stores the images we have manually sorted.\n",
    "# That means each image has its own corresponding label, which can be used for training.\n",
    "# The second tuple stores images that we have not yet classified.\n",
    "# After the first tuple is trained, we can classify the second tuple using a neural network.\n",
    "# According to the actual value of the experimental results and our predicted values, the corresponding loss values are obtained.\n",
    "# Reuse the back propagation for parameter update, then classify, and then repeat the above steps until the loss value is minimum\n",
    "(X_train, y_train), (X_test, y_test) = mnist.load_data()\n",
    "# 这里返回的是手写图片的两个tuple，第一个tuple存储的是我们已经人工分类好的图片，\n",
    "# 也就是每一张图片都有自己对应的标签，然后可以拿来训练，\n",
    "# 第二个tuple存储的是我们还没分类的图片，\n",
    "# 在第一个tuple训练完后，我们可以把第二个tuple利用神经网络进行分类，\n",
    "# 根据实验结果的真实值与我们的预测值进行对比得到相应的损失值，\n",
    "# 再利用反向传播进行参数更新，再进行分类，然后重复前述步骤直至损失值最小\n",
    "\n",
    "# The function is to determine the position of the image and the number of images. \n",
    "# The first two 3 means that 9 images can be placed\n",
    "# If it becomes 221, you can put 4 pictures, \n",
    "#then the next one is to determine the position of the image, in the first one, the following subplot is the same.\n",
    "plt.subplot(331)\n",
    "# subplot函数的作用是确定图像的位置以及图像的个数，前两个3的意思是可以放9张图片，\n",
    "# 如果变成221的话，就是可以放4张图片，然后后面的1，是确定图像的位置，处于第一个，以下的subplot同理\n",
    "\n",
    "# 这里个把图片显示出来\n",
    "# X_train存储的是图像的像素点组成的list数据类型，\n",
    "# 这里面又由一个二维的list（28 x 28的像素点值）和一个对应的标签list组成，\n",
    "# y_train存储的是对应图像的标签，也就是该图像代表什么数字\n",
    "# Display the images\n",
    "plt.imshow(X_test[0], cmap=plt.get_cmap('gray'))\n",
    "\n",
    "plt.subplot(332)\n",
    "plt.imshow(X_train[1], cmap=plt.get_cmap('gray'))\n",
    "plt.subplot(333)\n",
    "plt.imshow(X_train[2], cmap=plt.get_cmap('gray'))\n",
    "plt.subplot(334)\n",
    "plt.imshow(X_train[3], cmap=plt.get_cmap('gray'))\n",
    "plt.subplot(335)\n",
    "plt.imshow(X_train[4], cmap=plt.get_cmap('gray'))\n",
    "plt.subplot(336)\n",
    "plt.imshow(X_train[5], cmap=plt.get_cmap('gray'))\n",
    "plt.subplot(337)\n",
    "plt.imshow(X_train[6], cmap=plt.get_cmap('gray'))\n",
    "plt.subplot(338)\n",
    "plt.imshow(X_train[7], cmap=plt.get_cmap('gray'))\n",
    "plt.subplot(339)\n",
    "plt.imshow(X_train[8], cmap=plt.get_cmap('gray'))\n",
    "#我们这里第一个参数是图片的像素点值组成的数组（列表），第二个参数是指明图片的色彩"
   ]
  },
  {
   "cell_type": "markdown",
   "metadata": {},
   "source": [
    "***\n",
    "## Save the images"
   ]
  },
  {
   "cell_type": "code",
   "execution_count": 13,
   "metadata": {},
   "outputs": [
    {
     "name": "stdout",
     "output_type": "stream",
     "text": [
      "Extracting /data/train-images-idx3-ubyte.gz\n",
      "Extracting /data/train-labels-idx1-ubyte.gz\n",
      "Extracting /data/t10k-images-idx3-ubyte.gz\n",
      "Extracting /data/t10k-labels-idx1-ubyte.gz\n"
     ]
    },
    {
     "name": "stderr",
     "output_type": "stream",
     "text": [
      "C:\\Users\\kyle\\Anaconda3\\lib\\site-packages\\ipykernel_launcher.py:18: DeprecationWarning: `toimage` is deprecated!\n",
      "`toimage` is deprecated in SciPy 1.0.0, and will be removed in 1.2.0.\n",
      "Use Pillow's ``Image.fromarray`` directly instead.\n"
     ]
    }
   ],
   "source": [
    "# dawnload the MNIST dataset again\n",
    "mnist = input_data.read_data_sets(\"/data/\",one_hot=True)\n",
    "# import the package for save the array to the folder\n",
    "import scipy.misc\n",
    "# Document System package\n",
    "import os\n",
    "save_dir = '\\GMIT2018-2019\\Emerging-Thecnology-Project\\img\\ ' \n",
    "# Determine if the file path exists.\n",
    "if os.path.exists(save_dir) is False:\n",
    "    # Create the file path if it does not exist\n",
    "    os.makedirs(save_dir)\n",
    "# Save the 20 images \n",
    "for i in range(20):\n",
    "    image = mnist.train.images[i,:]\n",
    "    # Set the image size\n",
    "    image = image.reshape(28,28)\n",
    "    file = save_dir+'mnist_train_%d.jpg' % i\n",
    "    scipy.misc.toimage(image,cmin=0.0,cmax=1.0).save(file)"
   ]
  },
  {
   "cell_type": "markdown",
   "metadata": {},
   "source": [
    "***\n",
    "## Resource:  \n",
    "https://en.wikipedia.org/wiki/TensorFlow  \n",
    "https://en.wikipedia.org/wiki/Keras  \n",
    "http://yann.lecun.com/exdb/mnist/  \n",
    "https://en.wikipedia.org/wiki/MNIST_database  \n",
    "https://blog.csdn.net/panrenlong/article/details/81736754  \n",
    "https://matplotlib.org/api/_as_gen/matplotlib.pyplot.pause.html  \n",
    "https://matplotlib.org/api/_as_gen/matplotlib.pyplot.imshow.html#matplotlib.pyplot.imshow  \n",
    "https://www.cnblogs.com/dudu1992/p/8908178.html  "
   ]
  },
  {
   "cell_type": "markdown",
   "metadata": {},
   "source": [
    "# End"
   ]
  }
 ],
 "metadata": {
  "kernelspec": {
   "display_name": "Python 3",
   "language": "python",
   "name": "python3"
  },
  "language_info": {
   "codemirror_mode": {
    "name": "ipython",
    "version": 3
   },
   "file_extension": ".py",
   "mimetype": "text/x-python",
   "name": "python",
   "nbconvert_exporter": "python",
   "pygments_lexer": "ipython3",
   "version": "3.6.5"
  }
 },
 "nbformat": 4,
 "nbformat_minor": 2
}
